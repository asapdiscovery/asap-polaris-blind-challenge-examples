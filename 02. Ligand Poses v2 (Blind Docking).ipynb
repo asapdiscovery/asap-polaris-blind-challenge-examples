{
 "cells": [
  {
   "cell_type": "markdown",
   "id": "0e64d2e3-ade5-4094-95c5-074b82e5e25d",
   "metadata": {},
   "source": [
    "# Ligand Poses (Blind Docking)\n",
    "The [Ligand Poses challenge](https://polarishub.io/competitions/asap-discovery/antiviral-ligand-poses-2025) of the [ASAP Discovery competition](https://polarishub.io/competitions/asap-discovery/antiviral-admet-2025) is a little more complex than the other challenges. \n",
    "\n",
    "The goal in ligand pose challenge is to predict the 3D binding pose of the ligand, given the ligand's SMILES (or CXSMILES, to be more precise) and the protein's sequence. There are several ways of doing this such as docking or cofolding.\n",
    "\n",
    "`NB: because the Polaris API currently does not ingest whole protein structures your submission will only consist of the predicted ligand poses. Because of this it is critical that you properly align your predicted ligand-protein complexes to the reference complexes that we provide, otherwise we can not properly evaluate your submission!`\n",
    "\n",
    "Let's take a look!\n",
    "\n",
    "## Load the competition\n",
    "Make sure you're logged in! If you haven't logged in yet, simply run `polaris login` in a terminal of your choice. "
   ]
  },
  {
   "cell_type": "code",
   "execution_count": 1,
   "id": "12392ca1-d954-4c97-ab84-c0e2bb265c19",
   "metadata": {},
   "outputs": [
    {
     "data": {
      "text/html": [
       "<pre style=\"white-space:pre;overflow-x:auto;line-height:normal;font-family:Menlo,'DejaVu Sans Mono',consolas,'Courier New',monospace\"><span style=\"color: #7fbfbf; text-decoration-color: #7fbfbf\">[2025-02-14 08:46:14] </span><span style=\"color: #000080; text-decoration-color: #000080\">INFO    </span> The version of Polaris that was used to create the artifact <span style=\"font-weight: bold\">(</span><span style=\"color: #008080; text-decoration-color: #008080; font-weight: bold\">0.11</span>.<span style=\"color: #008080; text-decoration-color: #008080; font-weight: bold\">0</span><span style=\"font-weight: bold\">)</span> <a href=\"file:///Users/jenkescheen/projects/polaris/polaris/polaris/_artifact.py\" target=\"_blank\"><span style=\"color: #7f7f7f; text-decoration-color: #7f7f7f\">_artifact.py</span></a><span style=\"color: #7f7f7f; text-decoration-color: #7f7f7f\">:</span><a href=\"file:///Users/jenkescheen/projects/polaris/polaris/polaris/_artifact.py#92\" target=\"_blank\"><span style=\"color: #7f7f7f; text-decoration-color: #7f7f7f\">92</span></a>\n",
       "<span style=\"color: #7fbfbf; text-decoration-color: #7fbfbf\">                      </span>         is different from the currently installed version of Polaris         <span style=\"color: #7f7f7f; text-decoration-color: #7f7f7f\">               </span>\n",
       "<span style=\"color: #7fbfbf; text-decoration-color: #7fbfbf\">                      </span>         <span style=\"font-weight: bold\">(</span><span style=\"color: #008080; text-decoration-color: #008080; font-weight: bold\">0.11</span>.<span style=\"color: #008080; text-decoration-color: #008080; font-weight: bold\">7</span><span style=\"font-weight: bold\">)</span>.                                                            <span style=\"color: #7f7f7f; text-decoration-color: #7f7f7f\">               </span>\n",
       "</pre>\n"
      ],
      "text/plain": [
       "\u001b[2;36m[2025-02-14 08:46:14]\u001b[0m\u001b[2;36m \u001b[0m\u001b[34mINFO    \u001b[0m The version of Polaris that was used to create the artifact \u001b[1m(\u001b[0m\u001b[1;36m0.11\u001b[0m.\u001b[1;36m0\u001b[0m\u001b[1m)\u001b[0m \u001b]8;id=899095;file:///Users/jenkescheen/projects/polaris/polaris/polaris/_artifact.py\u001b\\\u001b[2m_artifact.py\u001b[0m\u001b]8;;\u001b\\\u001b[2m:\u001b[0m\u001b]8;id=492493;file:///Users/jenkescheen/projects/polaris/polaris/polaris/_artifact.py#92\u001b\\\u001b[2m92\u001b[0m\u001b]8;;\u001b\\\n",
       "\u001b[2;36m                      \u001b[0m         is different from the currently installed version of Polaris         \u001b[2m               \u001b[0m\n",
       "\u001b[2;36m                      \u001b[0m         \u001b[1m(\u001b[0m\u001b[1;36m0.11\u001b[0m.\u001b[1;36m7\u001b[0m\u001b[1m)\u001b[0m.                                                            \u001b[2m               \u001b[0m\n"
      ]
     },
     "metadata": {},
     "output_type": "display_data"
    },
    {
     "data": {
      "text/html": [
       "<pre style=\"white-space:pre;overflow-x:auto;line-height:normal;font-family:Menlo,'DejaVu Sans Mono',consolas,'Courier New',monospace\"><span style=\"color: #7fbfbf; text-decoration-color: #7fbfbf\">                      </span><span style=\"color: #808000; text-decoration-color: #808000\">WARNING </span> You're loading data from a remote location. If the dataset is small     <a href=\"file:///Users/jenkescheen/projects/polaris/polaris/polaris/dataset/_base.py\" target=\"_blank\"><span style=\"color: #7f7f7f; text-decoration-color: #7f7f7f\">_base.py</span></a><span style=\"color: #7f7f7f; text-decoration-color: #7f7f7f\">:</span><a href=\"file:///Users/jenkescheen/projects/polaris/polaris/polaris/dataset/_base.py#182\" target=\"_blank\"><span style=\"color: #7f7f7f; text-decoration-color: #7f7f7f\">182</span></a>\n",
       "<span style=\"color: #7fbfbf; text-decoration-color: #7fbfbf\">                      </span>         enough, consider caching the dataset first using                        <span style=\"color: #7f7f7f; text-decoration-color: #7f7f7f\">            </span>\n",
       "<span style=\"color: #7fbfbf; text-decoration-color: #7fbfbf\">                      </span>         <span style=\"color: #800080; text-decoration-color: #800080; font-weight: bold\">CompetitionSpecification.cache</span><span style=\"font-weight: bold\">()</span> for more performant data access.       <span style=\"color: #7f7f7f; text-decoration-color: #7f7f7f\">            </span>\n",
       "</pre>\n"
      ],
      "text/plain": [
       "\u001b[2;36m                     \u001b[0m\u001b[2;36m \u001b[0m\u001b[33mWARNING \u001b[0m You're loading data from a remote location. If the dataset is small     \u001b]8;id=355019;file:///Users/jenkescheen/projects/polaris/polaris/polaris/dataset/_base.py\u001b\\\u001b[2m_base.py\u001b[0m\u001b]8;;\u001b\\\u001b[2m:\u001b[0m\u001b]8;id=937442;file:///Users/jenkescheen/projects/polaris/polaris/polaris/dataset/_base.py#182\u001b\\\u001b[2m182\u001b[0m\u001b]8;;\u001b\\\n",
       "\u001b[2;36m                      \u001b[0m         enough, consider caching the dataset first using                        \u001b[2m            \u001b[0m\n",
       "\u001b[2;36m                      \u001b[0m         \u001b[1;35mCompetitionSpecification.cache\u001b[0m\u001b[1m(\u001b[0m\u001b[1m)\u001b[0m for more performant data access.       \u001b[2m            \u001b[0m\n"
      ]
     },
     "metadata": {},
     "output_type": "display_data"
    }
   ],
   "source": [
    "import polaris as po\n",
    "\n",
    "competition = po.load_competition(\"asap-discovery/antiviral-ligand-poses-2025\")"
   ]
  },
  {
   "cell_type": "markdown",
   "id": "ecdd0f20-4fbd-455c-8d25-c9331d47bf4d",
   "metadata": {},
   "source": [
    "Let's again cache it as suggested!"
   ]
  },
  {
   "cell_type": "code",
   "execution_count": 2,
   "id": "48fdb335-01a1-4210-81df-025187aeaf8d",
   "metadata": {},
   "outputs": [
    {
     "data": {
      "application/vnd.jupyter.widget-view+json": {
       "model_id": "feeba10c85d347e08f4de25c496564ce",
       "version_major": 2,
       "version_minor": 0
      },
      "text/plain": [
       "Output()"
      ]
     },
     "metadata": {},
     "output_type": "display_data"
    },
    {
     "data": {
      "text/html": [
       "<pre style=\"white-space:pre;overflow-x:auto;line-height:normal;font-family:Menlo,'DejaVu Sans Mono',consolas,'Courier New',monospace\"><span style=\"color: #7fbfbf; text-decoration-color: #7fbfbf\">[08:46:15] </span><span style=\"color: #008000; text-decoration-color: #008000\">Copying to destination </span>                                                                     <a href=\"file:///Users/jenkescheen/projects/polaris/polaris/polaris/dataset/_base.py\" target=\"_blank\"><span style=\"color: #7f7f7f; text-decoration-color: #7f7f7f\">_base.py</span></a><span style=\"color: #7f7f7f; text-decoration-color: #7f7f7f\">:</span><a href=\"file:///Users/jenkescheen/projects/polaris/polaris/polaris/dataset/_base.py#381\" target=\"_blank\"><span style=\"color: #7f7f7f; text-decoration-color: #7f7f7f\">381</span></a>\n",
       "<span style=\"color: #7fbfbf; text-decoration-color: #7fbfbf\">           </span><span style=\"color: #008000; text-decoration-color: #008000\">/Users/jenkescheen/Library/Caches/polaris/datasets/7b245e4a-ebb0-4ee8-a15c-3acfb6efe3f8/dat</span> <span style=\"color: #7f7f7f; text-decoration-color: #7f7f7f\">            </span>\n",
       "<span style=\"color: #7fbfbf; text-decoration-color: #7fbfbf\">           </span><span style=\"color: #008000; text-decoration-color: #008000\">a.zarr</span>                                                                                      <span style=\"color: #7f7f7f; text-decoration-color: #7f7f7f\">            </span>\n",
       "</pre>\n"
      ],
      "text/plain": [
       "\u001b[2;36m[08:46:15]\u001b[0m\u001b[2;36m \u001b[0m\u001b[32mCopying to destination \u001b[0m                                                                     \u001b]8;id=702292;file:///Users/jenkescheen/projects/polaris/polaris/polaris/dataset/_base.py\u001b\\\u001b[2m_base.py\u001b[0m\u001b]8;;\u001b\\\u001b[2m:\u001b[0m\u001b]8;id=18890;file:///Users/jenkescheen/projects/polaris/polaris/polaris/dataset/_base.py#381\u001b\\\u001b[2m381\u001b[0m\u001b]8;;\u001b\\\n",
       "\u001b[2;36m           \u001b[0m\u001b[32m/Users/jenkescheen/Library/Caches/polaris/datasets/7b245e4a-ebb0-4ee8-a15c-3acfb6efe3f8/\u001b[0m\u001b[32mdat\u001b[0m \u001b[2m            \u001b[0m\n",
       "\u001b[2;36m           \u001b[0m\u001b[32ma.zarr\u001b[0m                                                                                      \u001b[2m            \u001b[0m\n"
      ]
     },
     "metadata": {},
     "output_type": "display_data"
    },
    {
     "data": {
      "text/html": [
       "<pre style=\"white-space:pre;overflow-x:auto;line-height:normal;font-family:Menlo,'DejaVu Sans Mono',consolas,'Courier New',monospace\"><span style=\"color: #7fbfbf; text-decoration-color: #7fbfbf\">           </span><span style=\"color: #808000; text-decoration-color: #808000\">For large Zarr archives, this may take a while.</span>                                             <a href=\"file:///Users/jenkescheen/projects/polaris/polaris/polaris/dataset/_base.py\" target=\"_blank\"><span style=\"color: #7f7f7f; text-decoration-color: #7f7f7f\">_base.py</span></a><span style=\"color: #7f7f7f; text-decoration-color: #7f7f7f\">:</span><a href=\"file:///Users/jenkescheen/projects/polaris/polaris/polaris/dataset/_base.py#382\" target=\"_blank\"><span style=\"color: #7f7f7f; text-decoration-color: #7f7f7f\">382</span></a>\n",
       "</pre>\n"
      ],
      "text/plain": [
       "\u001b[2;36m          \u001b[0m\u001b[2;36m \u001b[0m\u001b[33mFor large Zarr archives, this may take a while.\u001b[0m                                             \u001b]8;id=474476;file:///Users/jenkescheen/projects/polaris/polaris/polaris/dataset/_base.py\u001b\\\u001b[2m_base.py\u001b[0m\u001b]8;;\u001b\\\u001b[2m:\u001b[0m\u001b]8;id=629884;file:///Users/jenkescheen/projects/polaris/polaris/polaris/dataset/_base.py#382\u001b\\\u001b[2m382\u001b[0m\u001b]8;;\u001b\\\n"
      ]
     },
     "metadata": {},
     "output_type": "display_data"
    },
    {
     "data": {
      "text/html": [
       "<pre style=\"white-space:pre;overflow-x:auto;line-height:normal;font-family:Menlo,'DejaVu Sans Mono',consolas,'Courier New',monospace\"><span style=\"color: #7fbfbf; text-decoration-color: #7fbfbf\">[08:46:26] </span><span style=\"color: #008000; text-decoration-color: #008000\"> Success: Copying Zarr keys</span>                                                                <a href=\"file:///Users/jenkescheen/projects/polaris/polaris/polaris/utils/context.py\" target=\"_blank\"><span style=\"color: #7f7f7f; text-decoration-color: #7f7f7f\">context.py</span></a><span style=\"color: #7f7f7f; text-decoration-color: #7f7f7f\">:</span><a href=\"file:///Users/jenkescheen/projects/polaris/polaris/polaris/utils/context.py#53\" target=\"_blank\"><span style=\"color: #7f7f7f; text-decoration-color: #7f7f7f\">53</span></a>\n",
       "</pre>\n"
      ],
      "text/plain": [
       "\u001b[2;36m[08:46:26]\u001b[0m\u001b[2;36m \u001b[0m\u001b[32m Success: Copying Zarr keys\u001b[0m                                                                \u001b]8;id=198052;file:///Users/jenkescheen/projects/polaris/polaris/polaris/utils/context.py\u001b\\\u001b[2mcontext.py\u001b[0m\u001b]8;;\u001b\\\u001b[2m:\u001b[0m\u001b]8;id=744724;file:///Users/jenkescheen/projects/polaris/polaris/polaris/utils/context.py#53\u001b\\\u001b[2m53\u001b[0m\u001b]8;;\u001b\\\n"
      ]
     },
     "metadata": {},
     "output_type": "display_data"
    },
    {
     "data": {
      "text/html": [
       "<pre style=\"white-space:pre;overflow-x:auto;line-height:normal;font-family:Menlo,'DejaVu Sans Mono',consolas,'Courier New',monospace\"><span style=\"color: #7fbfbf; text-decoration-color: #7fbfbf\">           </span><span style=\"color: #008000; text-decoration-color: #008000\"> Success: Copying Zarr archive</span>                                                             <a href=\"file:///Users/jenkescheen/projects/polaris/polaris/polaris/utils/context.py\" target=\"_blank\"><span style=\"color: #7f7f7f; text-decoration-color: #7f7f7f\">context.py</span></a><span style=\"color: #7f7f7f; text-decoration-color: #7f7f7f\">:</span><a href=\"file:///Users/jenkescheen/projects/polaris/polaris/polaris/utils/context.py#53\" target=\"_blank\"><span style=\"color: #7f7f7f; text-decoration-color: #7f7f7f\">53</span></a>\n",
       "</pre>\n"
      ],
      "text/plain": [
       "\u001b[2;36m          \u001b[0m\u001b[2;36m \u001b[0m\u001b[32m Success: Copying Zarr archive\u001b[0m                                                             \u001b]8;id=270766;file:///Users/jenkescheen/projects/polaris/polaris/polaris/utils/context.py\u001b\\\u001b[2mcontext.py\u001b[0m\u001b]8;;\u001b\\\u001b[2m:\u001b[0m\u001b]8;id=796662;file:///Users/jenkescheen/projects/polaris/polaris/polaris/utils/context.py#53\u001b\\\u001b[2m53\u001b[0m\u001b]8;;\u001b\\\n"
      ]
     },
     "metadata": {},
     "output_type": "display_data"
    },
    {
     "data": {
      "text/html": [
       "<pre style=\"white-space:pre;overflow-x:auto;line-height:normal;font-family:Menlo,'DejaVu Sans Mono',consolas,'Courier New',monospace\"></pre>\n"
      ],
      "text/plain": []
     },
     "metadata": {},
     "output_type": "display_data"
    },
    {
     "data": {
      "text/plain": [
       "'/Users/jenkescheen/Library/Caches/polaris/datasets/7b245e4a-ebb0-4ee8-a15c-3acfb6efe3f8'"
      ]
     },
     "execution_count": 2,
     "metadata": {},
     "output_type": "execute_result"
    }
   ],
   "source": [
    "competition.cache()"
   ]
  },
  {
   "cell_type": "code",
   "execution_count": 3,
   "id": "8fc40a53-1f4d-4365-8c2a-23ba023533ca",
   "metadata": {},
   "outputs": [],
   "source": [
    "# let's get the training and test data for this subchallenge\n",
    "train, test = competition.get_train_test_split()"
   ]
  },
  {
   "cell_type": "markdown",
   "id": "a9a75ca2",
   "metadata": {},
   "source": [
    "## Training Set"
   ]
  },
  {
   "cell_type": "markdown",
   "id": "a2a21a57",
   "metadata": {},
   "source": [
    "There are two levels of information in the training set. The simpler level just contains the protein sequence, CXSMILES for the ligand, the ligand pose (as an RDKit molecule object) and the _target_, i.e. whether the training point is in SARS-CoV-2 Mpro or MERS-CoV Mpro:"
   ]
  },
  {
   "cell_type": "code",
   "execution_count": 4,
   "id": "7f48af30-de0a-48c2-aa5e-44c6be13f9ea",
   "metadata": {},
   "outputs": [
    {
     "data": {
      "text/plain": [
       "({'Chain A Sequence': 'SGFRKMAFPSGKVEGCMVQVTCGTTTLNGLWLDDVVYCPRHVICTSEDMLNPNYEDLLIRKSNHNFLVQAGNVQLRVIGHSMQNCVLKLKVDTANPKTPKYKFVRIQPGQTFSVLACYNGSPSGVYQCAMRPNFTIKGSFLNGSCGSVGFNIDYDCVSFCYMHHMELPTGVHAGTDLEGNFYGPFVDRQTAQAAGTDTTITVNVLAWLYAAVINGDRWFLNRFTTTLNDFNLVAMKYNYEPLTQDHVDILGPLSAQTGIAVLDMCASLKELLQNGMNGRTILGSALLEDEFTPFDVVRQCSGVT',\n",
       "  'Protein Label': 'SARS-CoV-2 Mpro',\n",
       "  'Chain B Sequence': 'SGFRKMAFPSGKVEGCMVQVTCGTTTLNGLWLDDVVYCPRHVICTSEDMLNPNYEDLLIRKSNHNFLVQAGNVQLRVIGHSMQNCVLKLKVDTANPKTPKYKFVRIQPGQTFSVLACYNGSPSGVYQCAMRPNFTIKGSFLNGSCGSVGFNIDYDCVSFCYMHHMELPTGVHAGTDLEGNFYGPFVDRQTAQAAGTDTTITVNVLAWLYAAVINGDRWFLNRFTTTLNDFNLVAMKYNYEPLTQDHVDILGPLSAQTGIAVLDMCASLKELLQNGMNGRTILGSALLEDEFTPFDVVRQCSGVT',\n",
       "  'CXSMILES': 'c1ccc(SCC[NH+]2CCOCC2)cc1'},\n",
       " <rdkit.Chem.rdchem.Mol at 0x28a8742c0>)"
      ]
     },
     "execution_count": 4,
     "metadata": {},
     "output_type": "execute_result"
    }
   ],
   "source": [
    "\n",
    "train[0]"
   ]
  },
  {
   "cell_type": "markdown",
   "id": "639f7cb6",
   "metadata": {},
   "source": [
    "The more complex level contains the actual ligand-protein complexes for the training set. These are formatted as `numpy` arrays that can be parsed by a method of your choosing (you can use calls like `datapoint[\"Complex Structure\"].coord`, `datapoint[\"Complex Structure\"].atom_name` and `datapoint[\"Complex Structure\"].chain_id` to get relevant information). \n",
    "\n",
    "This may seem like a complicated format, but this is more convenient for ingestion by python workflows. You'll find that `datapoint[\"Complex Structure\"]` and `datapoint[\"Protein Structure\"]` are `biotite.structure.AtomArray` objects and `datapoint[\"Ligand Pose\"]` is an `rdkit.Chem.rdchem.Mol`."
   ]
  },
  {
   "cell_type": "code",
   "execution_count": 5,
   "id": "b823cc63",
   "metadata": {},
   "outputs": [
    {
     "data": {
      "text/plain": [
       "array([[ -2.395,   4.215, -17.097],\n",
       "       [ -1.977,   5.504, -16.496],\n",
       "       [ -2.341,   5.543, -15.01 ],\n",
       "       ...,\n",
       "       [ 21.061,  -8.835,   7.04 ],\n",
       "       [ 22.269, -10.73 ,   6.01 ],\n",
       "       [ 28.088, -10.911,   5.35 ]], dtype=float32)"
      ]
     },
     "execution_count": 5,
     "metadata": {},
     "output_type": "execute_result"
    }
   ],
   "source": [
    "# Get some info for a single data point in the training set\n",
    "competition[0][\"Complex Structure\"].coord"
   ]
  },
  {
   "cell_type": "markdown",
   "id": "b947c513-aced-4b1c-85ec-89135c9fb80a",
   "metadata": {},
   "source": [
    "### Raw data dump of training set\n",
    "If you would rather work with the training set SDF/PDB files directly, you can access the raw data dump that this dataset has been created from."
   ]
  },
  {
   "cell_type": "code",
   "execution_count": 6,
   "id": "4f61acee-c81a-4b17-abe6-4f25cac29a1d",
   "metadata": {},
   "outputs": [],
   "source": [
    "import fsspec\n",
    "import zipfile\n",
    "\n",
    "\"\"\" \n",
    "Note, you may need to !pip install some extra packages to make this cell work!\n",
    "\"\"\"\n",
    "\n",
    "with fsspec.open(\"https://fs.polarishub.io/2025-01-asap-discovery/raw_data_package.zip\") as fd:\n",
    "    with zipfile.ZipFile(fd, 'r') as zip_ref:\n",
    "        zip_ref.extractall(\"./raw_data_package/\")\n",
    "\n",
    "# then in your terminal you can navigate to ./raw_data_package/ligand-posing/ to see all training data as files.\n"
   ]
  },
  {
   "cell_type": "markdown",
   "id": "12c9c049",
   "metadata": {},
   "source": [
    "## Test set\n",
    "\n",
    "The test set is simpler because we're only giving you the protein sequence, ligand CXSMILES and what the target protein is (i.e. either SARS-CoV-2 Mpro or MERS-CoV Mpro):"
   ]
  },
  {
   "cell_type": "code",
   "execution_count": 7,
   "id": "17bafd4d",
   "metadata": {},
   "outputs": [
    {
     "data": {
      "text/plain": [
       "{'Chain A Sequence': 'SGLVKMSHPSGDVEACMVQVTCGSMTLNGLWLDNTVWCPRHVMCPADQLSDPNYDALLISMTNHSFSVQKHIGAPANLRVVGHAMQGTLLKLTVDVANPSTPAYTFTTVKPGAAFSVLACYNGRPTGTFTVVMRPNYTIKGSFLCGSCGSVGYTKEGSVINFCYMHQMELANGTHTGSAFDGTMYGAFMDKQVHQVQLTDKYCSVNVVAWLYAAILNGCAWFVKPNRTSVVSFNEWALANQFTEFVGTQSVDMLAVKTGVAIEQLLYAIQQLYTGFQGKQILGSTMLEDEFTPEDVNMQIMGV',\n",
       " 'Protein Label': 'MERS-CoV Mpro',\n",
       " 'Chain B Sequence': 'SGLVKMSHPSGDVEACMVQVTCGSMTLNGLWLDNTVWCPRHVMCPADQLSDPNYDALLISMTNHSFSVQKHIGAPANLRVVGHAMQGTLLKLTVDVANPSTPAYTFTTVKPGAAFSVLACYNGRPTGTFTVVMRPNYTIKGSFLCGSCGSVGYTKEGSVINFCYMHQMELANGTHTGSAFDGTMYGAFMDKQVHQVQLTDKYCSVNVVAWLYAAILNGCAWFVKPNRTSVVSFNEWALANQFTEFVGTQSVDMLAVKTGVAIEQLLYAIQQLYTGFQGKQILGSTMLEDEFTPEDVNMQIMGV',\n",
       " 'CXSMILES': 'O=C1c2ccc(Cl)cc2[C@@]2(CN1Cc1nnco1)C(=O)N(c1cncc3ccccc13)C[C@@H]2CNc1ncncn1'}"
      ]
     },
     "execution_count": 7,
     "metadata": {},
     "output_type": "execute_result"
    }
   ],
   "source": [
    "test[0]"
   ]
  },
  {
   "cell_type": "markdown",
   "id": "7f4d72cd-faef-4285-a7e1-fef4bf1284d8",
   "metadata": {},
   "source": [
    "# Build a model\n",
    "Building a ligand pose prediction model is non-trivial and outside the scope of this notebook. We're looking forward to seeing what you come up with!\n",
    "\n",
    "# Prepare your inputs\n",
    "Since building a ligand pose prediction model is out of scope, we'll simply generate a conformer using RDKit for the sake of simplicitly. This just serves as a way to show how to prepare your inputs for submission."
   ]
  },
  {
   "cell_type": "code",
   "execution_count": 8,
   "id": "545094e0-1d59-46ba-9af6-3d2051b4cf6d",
   "metadata": {},
   "outputs": [
    {
     "name": "stderr",
     "output_type": "stream",
     "text": [
      "100%|██████████| 195/195 [00:14<00:00, 13.71it/s]\n"
     ]
    }
   ],
   "source": [
    "import datamol as dm\n",
    "import numpy as np\n",
    "\n",
    "from tqdm import tqdm\n",
    "\n",
    "y_pred = []\n",
    "\n",
    "for x in tqdm(test): \n",
    "\n",
    "    # Generate a random conformer\n",
    "    mol = dm.to_mol(x[\"CXSMILES\"])\n",
    "    mol = dm.conformers.generate(mol, n_confs=1)\n",
    "\n",
    "    # That's our prediction\n",
    "    y_pred.append(mol)"
   ]
  },
  {
   "cell_type": "markdown",
   "id": "eb804646-f8a7-4e3d-a90b-08d6dcacba61",
   "metadata": {},
   "source": [
    "## Alignment\n",
    "\n",
    "We will evaluate your predictions using RMSD between your predicted pose and the actual pose that we've withheld. This raises a problem: You could have the perfect pose, but rotated or somewhere else in cartesian space which would ruin your evaluation. To allow for a fair comparison, everyone is therefore required to align their pose predictions ahead of submission with a reference structure that we provide.\n",
    "\n",
    "Let's start by downloading the reference structures!\n",
    "\n",
    "`WARNING:  UNLESS YOU CORRECTLY ALIGN YOUR PREDICTIONS WILL NOT BE ABLE TO BE JUDGED CORRECTLY, PLEASE READ THE ALIGNMENT SECTIONS BELOW CAREFULLY`\n",
    "\n"
   ]
  },
  {
   "cell_type": "code",
   "execution_count": 9,
   "id": "9c29d582-8168-44aa-83ed-ff8139cd4270",
   "metadata": {},
   "outputs": [],
   "source": [
    "import zipfile\n",
    "\n",
    "with fsspec.open(\"https://fs.polarishub.io/2025-01-asap-discovery/ligand_poses_reference_structures.zip\") as fd:\n",
    "    with zipfile.ZipFile(fd, 'r') as zip_ref:\n",
    "        zip_ref.extractall(\"./reference_structures/\")"
   ]
  },
  {
   "cell_type": "markdown",
   "id": "c8e6faac-6345-43a2-b81c-5ba5a275ffc0",
   "metadata": {},
   "source": [
    "We will now show an example of how to align your predictions to the reference structures. \n",
    "\n",
    "**IMPORTANT: you must submit your predictions in the same order that they are presented in the test set from polaris**\n",
    "\n",
    "Additionally, As each example in the test set belongs to `either the SARS-CoV-2 Mpro or MERS-CoV Mpro` we need to make sure we align to the correct protein. \n",
    "\n",
    "There are many ways of doing this; here we present a method that has worked well for us"
   ]
  },
  {
   "cell_type": "markdown",
   "id": "08b20c80-6b2a-423a-a27c-0bcba4d50613",
   "metadata": {},
   "source": [
    "Assuming we have PDB files of our predictions available on disk as `my_preds` (there are lots of ways to do this so please choose method appropriate for you)"
   ]
  },
  {
   "cell_type": "code",
   "execution_count": 18,
   "id": "cfbfa098-027d-4fd0-a064-23509ddf0680",
   "metadata": {},
   "outputs": [],
   "source": [
    "# mockup \n",
    "my_preds = [f\"path_to_preds/{i}\" for i in range(len(test))]\n",
    "protein_labels = [x[\"Protein Label\"] for x in test]\n",
    "\n",
    "\n",
    "#### NEED TO DO THIS DIFFERENTLY, WE NEED CONTINUINITY WITH y_pred FROM THE CELLS ABOVE AND BELOW"
   ]
  },
  {
   "cell_type": "markdown",
   "id": "794284fb-2352-471c-839a-8a0d9bad465d",
   "metadata": {},
   "source": [
    "You need to use the reference complexes available in the full data package to align to, edit these paths as required."
   ]
  },
  {
   "cell_type": "code",
   "execution_count": 21,
   "id": "b71a9c1a-7a8f-47b3-85ab-760469446d9d",
   "metadata": {},
   "outputs": [],
   "source": [
    "import pymol\n",
    "def align_pred(protein_path, protein_label, index):\n",
    "    # find out which target we need to be aligning to\n",
    "    if protein_label == 'MERS-CoV Mpro':\n",
    "        ref_path = \"./ligand-posing/ALIGNMENT_REFERENCES/MERS-CoV-Mpro/reference_structure/complex.pdb\"\n",
    "    elif protein_label == \"SARS-CoV-2 Mpro\":\n",
    "        ref_path = \"./ligand-posing/ALIGNMENT_REFERENCES/SARS-CoV-2-Mpro/reference_structure/complex.pdb\"\n",
    "    else:\n",
    "        raise Exception\n",
    "\n",
    "    # in a pymol session, align the query structure to the reference structure\n",
    "    pymol.cmd.delete(\"all\")\n",
    "    pymol.cmd.load(protein_path, \"mobile\")\n",
    "    pymol.cmd.load(ref_path, \"reference\")\n",
    "    pymol.cmd.align(\n",
    "        \"chain A and mobile\",\n",
    "        \"chain A and reference\",\n",
    "    )\n",
    "\n",
    "    # write to files\n",
    "    ret_path = f\"my_preds_aligned_{index}.pdb\"\n",
    "    ret_path_pse = f\"my_preds_aligned_{index}.pse\"\n",
    "    pymol.cmd.save(ret_path_pse)\n",
    "    pymol.cmd.save(ret_path, \"mobile\")\n",
    "    return ret_path"
   ]
  },
  {
   "cell_type": "markdown",
   "id": "ab3b77b0-2c09-4d25-bdfd-e9ee1bede526",
   "metadata": {},
   "source": [
    "to then call this you would do something like "
   ]
  },
  {
   "cell_type": "code",
   "execution_count": null,
   "id": "0e0439c3-4c7b-43a8-994d-e62edd2480d6",
   "metadata": {},
   "outputs": [],
   "source": [
    "for i, (pred, label) in enumerate(zip(my_preds, protein_labels)):\n",
    "    print(f\"aligning index: {i}, pred: {pred}, label: {label}\")\n",
    "    aligned_path = align_pred(pred, label, i)"
   ]
  },
  {
   "cell_type": "markdown",
   "id": "79c627f0-2092-4670-b639-d3c9518ba832",
   "metadata": {},
   "source": [
    "You can then inspect the aligned PDBs and saved pymol session files to see if the alignment looks good. **PLEASE CONFIRM THAT YOU ARE HAPPY WITH THE ALIGNMENT BEFORE SUBMITTING**"
   ]
  },
  {
   "cell_type": "markdown",
   "id": "870fb033-15c2-4a76-aa14-93fbc7cd646e",
   "metadata": {},
   "source": [
    "## Towards submission"
   ]
  },
  {
   "cell_type": "markdown",
   "id": "40bcdda6-d780-442d-8f70-e859f5347af9",
   "metadata": {},
   "source": [
    "## Serialize\n",
    "\n",
    "We only judge the position of the ligand molecule. As such you need to either extract it or provide it as an rdkit mol already **after alignment to the reference structure**\n",
    "\n",
    "To submit to Polaris, you need to serialize the molecules to a bytestring. Please stick to the exact below example."
   ]
  },
  {
   "cell_type": "code",
   "execution_count": 23,
   "id": "e3d8f1d7-31cd-4949-9a68-4d996e33a6c0",
   "metadata": {},
   "outputs": [],
   "source": [
    "import base64\n",
    "from rdkit import Chem\n",
    "\n",
    "\n",
    "def serialize_rdkit_mol(mol: Chem.Mol): \n",
    "    props = Chem.PropertyPickleOptions.AllProps\n",
    "    mol_bytes = mol.ToBinary(props)\n",
    "    return base64.b64encode(mol_bytes).decode('ascii')  \n",
    "\n",
    "\n",
    "y_pred_serialized = [serialize_rdkit_mol(mol) for mol in y_pred]"
   ]
  },
  {
   "cell_type": "markdown",
   "id": "c69f421e-911f-4229-a833-58f738101f3b",
   "metadata": {},
   "source": [
    "#### Sanity check\n",
    "Let's deserialize the molecule again to make sure we've done this correctly"
   ]
  },
  {
   "cell_type": "code",
   "execution_count": 24,
   "id": "0b5e064c-7deb-406a-b0de-a12cef4d330a",
   "metadata": {},
   "outputs": [
    {
     "data": {
      "image/png": "[encoded data removed]",
      "text/plain": [
       "<rdkit.Chem.rdchem.Mol at 0x163d447c0>"
      ]
     },
     "execution_count": 24,
     "metadata": {},
     "output_type": "execute_result"
    }
   ],
   "source": [
    "deserialized = Chem.Mol(base64.b64decode(y_pred_serialized[0].encode(\"ascii\")))\n",
    "deserialized"
   ]
  },
  {
   "cell_type": "code",
   "execution_count": 25,
   "id": "c4621850-73e4-4b69-b2a0-0a5cca306a78",
   "metadata": {},
   "outputs": [
    {
     "data": {
      "image/png": "[encoded data removed]",
      "text/plain": [
       "<rdkit.Chem.rdchem.Mol at 0x1645a0660>"
      ]
     },
     "execution_count": 25,
     "metadata": {},
     "output_type": "execute_result"
    }
   ],
   "source": [
    "y_pred[0]"
   ]
  },
  {
   "cell_type": "code",
   "execution_count": 26,
   "id": "0fcda166-1747-47a2-a50a-b8e6b71d5a9b",
   "metadata": {},
   "outputs": [
    {
     "data": {
      "text/plain": [
       "True"
      ]
     },
     "execution_count": 26,
     "metadata": {},
     "output_type": "execute_result"
    }
   ],
   "source": [
    "dm.same_mol(y_pred[0], deserialized)"
   ]
  },
  {
   "cell_type": "markdown",
   "id": "2fb2929f-961f-42ac-b693-b0600fa198a1",
   "metadata": {},
   "source": [
    "# Submit to Polaris"
   ]
  },
  {
   "cell_type": "code",
   "execution_count": 28,
   "id": "2b225605-ff8a-42fb-8ff2-5f929ac036ae",
   "metadata": {},
   "outputs": [
    {
     "name": "stdout",
     "output_type": "stream",
     "text": [
      "✅ SUCCESS: \u001b[1mYour competition predictions have been successfully uploaded to the Hub for evaluation.\u001b[0m\n",
      " \n"
     ]
    }
   ],
   "source": [
    "competition.submit_predictions(\n",
    "    predictions=y_pred_serialized,\n",
    "    prediction_name=\"my-second-predictions\",\n",
    "    prediction_owner=\"cwognum\",\n",
    "    report_url=\"https://www.example.com\", \n",
    "    # The below metadata is optional, but recommended.\n",
    "    github_url=\"https://github.com/polaris-hub/polaris\",\n",
    "    description=\"Just testing the Polaris API here!\",\n",
    "    tags=[\"tutorial\"],\n",
    "    user_attributes={\"Framework\": \"RDKit\", \"Method\": \"Dummy Baseline\"}\n",
    ")"
   ]
  },
  {
   "cell_type": "markdown",
   "id": "3b52c5dc-9921-420c-9dfc-ac0408d38a50",
   "metadata": {},
   "source": [
    "For the ASAP competition, we will only evaluate your latest submission. \n",
    "\n",
    "The results will only be disclosed after the competition ends and during any intermediate leaderboards."
   ]
  },
  {
   "cell_type": "markdown",
   "id": "1f77ead1-89ba-4b49-b522-0b39afa48ae1",
   "metadata": {},
   "source": [
    "The End."
   ]
  }
 ],
 "metadata": {
  "kernelspec": {
   "display_name": "Python 3",
   "language": "python",
   "name": "python3"
  },
  "language_info": {
   "codemirror_mode": {
    "name": "ipython",
    "version": 3
   },
   "file_extension": ".py",
   "mimetype": "text/x-python",
   "name": "python",
   "nbconvert_exporter": "python",
   "pygments_lexer": "ipython3",
   "version": "3.12.8"
  }
 },
 "nbformat": 4,
 "nbformat_minor": 5
}
