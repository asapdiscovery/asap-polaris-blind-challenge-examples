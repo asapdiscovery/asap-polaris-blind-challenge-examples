{
 "cells": [
  {
   "cell_type": "markdown",
   "id": "f3e51057-9432-4574-9ee5-69760ecd806d",
   "metadata": {},
   "source": [
    "# Ligand ADMET and Potency (Property Prediction)\n",
    "\n",
    "The ADMET and Potency Challenge of the ASAP Discovery competition take the shape of a property prediction task. Given the SMILES (or, to be more precise, the CXSMILES) of a molecule, you are asked to predict the numerical properties of said molecule. This is a relatively straight-forward application of ML and this notebook will quickly get you up and running!\n",
    "\n",
    "To begin with, choose one of the two challenges! The code will look the same for both. "
   ]
  },
  {
   "cell_type": "code",
   "execution_count": 2,
   "id": "c1e1f5a4-d7b4-41cc-a5fc-a657ca5fd6cf",
   "metadata": {},
   "outputs": [],
   "source": [
    "CHALLENGE = \"antiviral-admet-2025\"  # or: \"antiviral-potency-2025\""
   ]
  },
  {
   "cell_type": "markdown",
   "id": "2319bfb8-1fef-4294-a8f6-a225b7a95c09",
   "metadata": {},
   "source": [
    "## Load the competition\n",
    "\n",
    "Let's first load the competition from Polaris.\n",
    "\n",
    "Make sure you are logged in! If not, simply run `polaris login` and follow the instructions. "
   ]
  },
  {
   "cell_type": "code",
   "execution_count": 3,
   "id": "0a466c50-5408-4f72-840c-b467ca5f0f3f",
   "metadata": {},
   "outputs": [
    {
     "name": "stderr",
     "output_type": "stream",
     "text": [
      "\u001b[32m2025-01-10 16:32:41.011\u001b[0m | \u001b[1mINFO    \u001b[0m | \u001b[36mpolaris._artifact\u001b[0m:\u001b[36m_validate_version\u001b[0m:\u001b[36m90\u001b[0m - \u001b[1mThe version of Polaris that was used to create the artifact (0.2.5) is different from the currently installed version of Polaris (0.10.1.dev1+gabb9b29.d20241218).\u001b[0m\n",
      "\u001b[32m2025-01-10 16:32:41.013\u001b[0m | \u001b[33m\u001b[1mWARNING \u001b[0m | \u001b[36mpolaris.dataset._base\u001b[0m:\u001b[36mzarr_root\u001b[0m:\u001b[36m179\u001b[0m - \u001b[33m\u001b[1mYou're loading data from a remote location. If the dataset is small enough, consider caching the dataset first using CompetitionSpecification.cache() for more performant data access.\u001b[0m\n"
     ]
    }
   ],
   "source": [
    "import polaris as po\n",
    "\n",
    "competition = po.load_competition(f\"asap-discovery/{CHALLENGE}\")"
   ]
  },
  {
   "cell_type": "markdown",
   "id": "5478ab20-ed4b-4f7d-a5bb-3618748de65a",
   "metadata": {},
   "source": [
    "As suggested in the logs, we'll cache the dataset. Note that this is not strictly necessary, but it does speed up later steps."
   ]
  },
  {
   "cell_type": "code",
   "execution_count": 4,
   "id": "d44d7a37-2119-42cd-a7eb-41daf5687660",
   "metadata": {},
   "outputs": [
    {
     "name": "stderr",
     "output_type": "stream",
     "text": [
      "\u001b[32m2025-01-10 16:32:41.488\u001b[0m | \u001b[1mINFO    \u001b[0m | \u001b[36mpolaris.dataset._base\u001b[0m:\u001b[36m_cache_zarr\u001b[0m:\u001b[36m374\u001b[0m - \u001b[1mCopying Zarr archive to /Users/cas.wognum/Library/Caches/polaris/datasets/10cb2cc0-6ab4-43ce-ad9e-8bb95c4c45a9/data.zarr. This may take a while.\u001b[0m\n",
      "\u001b[32m2025-01-10 16:32:41.999\u001b[0m | \u001b[1mINFO    \u001b[0m | \u001b[36mpolaris.hub.storage\u001b[0m:\u001b[36mcopy_to_destination\u001b[0m:\u001b[36m177\u001b[0m - \u001b[1mCopied 16 (0.07 MiB), skipped 0, of 16 keys. 100.00% completed.\u001b[0m\n"
     ]
    },
    {
     "data": {
      "text/plain": [
       "'/Users/cas.wognum/Library/Caches/polaris/datasets/10cb2cc0-6ab4-43ce-ad9e-8bb95c4c45a9'"
      ]
     },
     "execution_count": 4,
     "metadata": {},
     "output_type": "execute_result"
    }
   ],
   "source": [
    "competition.cache()"
   ]
  },
  {
   "cell_type": "markdown",
   "id": "a2455a1a-ef57-4e04-9d0c-47553c5e8059",
   "metadata": {},
   "source": [
    "Let's get the train and test set and take a look at the data structure."
   ]
  },
  {
   "cell_type": "code",
   "execution_count": 5,
   "id": "46c34cf4-31fd-4de1-8b18-0694a2a25d29",
   "metadata": {},
   "outputs": [],
   "source": [
    "train, test = competition.get_train_test_split()"
   ]
  },
  {
   "cell_type": "code",
   "execution_count": 6,
   "id": "dfa8d6c9-7274-4a30-937a-08e7a87974ce",
   "metadata": {},
   "outputs": [
    {
     "data": {
      "text/plain": [
       "('COC1=CC=CC(Cl)=C1NC(=O)N1CCC[C@H](C(N)=O)C1 |a:16|',\n",
       " {'LogD': 0.3, 'MLM': nan, 'MDR1-MDCKII': 2.0, 'KSOL': nan, 'HLM': nan})"
      ]
     },
     "execution_count": 6,
     "metadata": {},
     "output_type": "execute_result"
    }
   ],
   "source": [
    "train[0]"
   ]
  },
  {
   "cell_type": "code",
   "execution_count": 7,
   "id": "ec22ca4b-395b-407f-93e6-2879a6d18004",
   "metadata": {},
   "outputs": [
    {
     "data": {
      "text/plain": [
       "'CC(C)[C@H]1C2=C(CCN1C(=O)CC1=CN=CC3=CC=CC=C13)SC=C2 |o1:3|'"
      ]
     },
     "execution_count": 7,
     "metadata": {},
     "output_type": "execute_result"
    }
   ],
   "source": [
    "test[0]"
   ]
  },
  {
   "cell_type": "markdown",
   "id": "fa187b6a-65ad-42aa-9d9a-0c853e419cb0",
   "metadata": {},
   "source": [
    "### Raw data dump"
   ]
  },
  {
   "cell_type": "code",
   "execution_count": null,
   "id": "e6777d4f-cded-482f-86b9-7eb988608969",
   "metadata": {},
   "outputs": [],
   "source": []
  },
  {
   "cell_type": "markdown",
   "id": "6701ce16-bcaa-41f4-b1c9-0318c1720434",
   "metadata": {},
   "source": [
    "## Build a model\n",
    "Next, we'll train a simple baseline model using scikit-learn. \n",
    "\n",
    "You'll notice that the challenge has multiple targets."
   ]
  },
  {
   "cell_type": "code",
   "execution_count": 8,
   "id": "72014923-cf25-4ec3-87f8-00e7db0b45de",
   "metadata": {},
   "outputs": [
    {
     "data": {
      "text/plain": [
       "['LogD', 'MLM', 'MDR1-MDCKII', 'KSOL', 'HLM']"
      ]
     },
     "execution_count": 8,
     "metadata": {},
     "output_type": "execute_result"
    }
   ],
   "source": [
    "train.target_cols"
   ]
  },
  {
   "cell_type": "markdown",
   "id": "ae44540f-ff75-475b-8e23-1a7d2134cdcf",
   "metadata": {},
   "source": [
    "An interesting idea would be to build a multi-task model to leverage shared information across tasks.\n",
    "\n",
    "For the sake of simplicity, however, we'll simply build a model per target here. "
   ]
  },
  {
   "cell_type": "code",
   "execution_count": 9,
   "id": "a2f9a6a8-388e-45ca-8b41-bfaed2a641e4",
   "metadata": {},
   "outputs": [],
   "source": [
    "import datamol as dm\n",
    "import numpy as np\n",
    "\n",
    "from sklearn.ensemble import GradientBoostingRegressor\n",
    "\n",
    "# Prepare the input data. We'll use Datamol to compute the ECFP fingerprints for both the train and test columns.\n",
    "X_train = np.array([dm.to_fp(dm.to_mol(smi)) for smi in train.X])\n",
    "X_test = np.array([dm.to_fp(dm.to_mol(smi)) for smi in test.X])\n",
    "\n",
    "y_pred = {}\n",
    "\n",
    "# For each of the targets...\n",
    "for tgt in competition.target_cols:\n",
    "\n",
    "    # We get the training targets\n",
    "    # Note that we need to mask out NaNs since the multi-task matrix is sparse.\n",
    "    y_true = train.y[tgt]\n",
    "    mask = ~np.isnan(y_true)\n",
    "\n",
    "    # We'll train a simple baseline model\n",
    "    model = GradientBoostingRegressor()\n",
    "    model.fit(X_train[mask], y_true[mask])\n",
    "\n",
    "    # And then use that to predict the targets for the test set\n",
    "    y_pred[tgt] = model.predict(X_test)"
   ]
  },
  {
   "cell_type": "markdown",
   "id": "820563e3-e372-4fdc-b038-259d24c5e0d8",
   "metadata": {},
   "source": [
    "## Submit your predictions\n",
    "Submitting your predictions to the competition is simple."
   ]
  },
  {
   "cell_type": "code",
   "execution_count": 10,
   "id": "4b1f4ead-0be2-44bd-84f9-608700589229",
   "metadata": {},
   "outputs": [
    {
     "name": "stdout",
     "output_type": "stream",
     "text": [
      "✅ SUCCESS: \u001b[1mYour competition predictions have been successfully uploaded to the Hub for evaluation.\u001b[0m\n",
      " \n"
     ]
    },
    {
     "name": "stderr",
     "output_type": "stream",
     "text": [
      "/Users/cas.wognum/micromamba/envs/polaris/lib/python3.12/site-packages/yaspin/core.py:171: UserWarning: color, on_color and attrs are not supported when running in jupyter\n",
      "  self._color = self._set_color(value) if value else value\n"
     ]
    }
   ],
   "source": [
    "competition.submit_predictions(\n",
    "    predictions=y_pred,\n",
    "    prediction_name=\"my-first-predictions\",\n",
    "    prediction_owner=\"castest\",\n",
    "    report_url=\"https://www.example.com\", \n",
    "    # The below metadata is optional, but recommended.\n",
    "    github_url=\"https://github.com/polaris-hub/polaris\",\n",
    "    description=\"Just testing the Polaris API here!\",\n",
    "    tags=[\"tutorial\"],\n",
    "    user_attributes={\"Framework\": \"Scikit-learn\", \"Method\": \"Gradient Boosting\"}\n",
    ")"
   ]
  },
  {
   "cell_type": "markdown",
   "id": "c515ba0e-1274-4ba1-b0ee-088b11d0983d",
   "metadata": {},
   "source": [
    "For the ASAP competition, we will only evaluate your latest submission. \n",
    "\n",
    "The results will only be disclosed after the competition ends."
   ]
  },
  {
   "cell_type": "markdown",
   "id": "24cb48a8-86f9-43e5-ad8b-74e039158387",
   "metadata": {},
   "source": [
    "The End."
   ]
  }
 ],
 "metadata": {
  "kernelspec": {
   "display_name": "Python 3 (ipykernel)",
   "language": "python",
   "name": "python3"
  },
  "language_info": {
   "codemirror_mode": {
    "name": "ipython",
    "version": 3
   },
   "file_extension": ".py",
   "mimetype": "text/x-python",
   "name": "python",
   "nbconvert_exporter": "python",
   "pygments_lexer": "ipython3",
   "version": "3.12.8"
  }
 },
 "nbformat": 4,
 "nbformat_minor": 5
}
