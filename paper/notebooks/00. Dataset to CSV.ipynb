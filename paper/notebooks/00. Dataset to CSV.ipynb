{
 "cells": [
  {
   "cell_type": "code",
   "execution_count": 1,
   "id": "233b18b7-f84c-4081-b26d-7525103167f7",
   "metadata": {},
   "outputs": [],
   "source": [
    "import polaris as po"
   ]
  },
  {
   "cell_type": "code",
   "execution_count": 2,
   "id": "959817c5-a2e3-4fa5-9229-5bd7a54623a8",
   "metadata": {},
   "outputs": [
    {
     "data": {
      "application/vnd.jupyter.widget-view+json": {
       "model_id": "b3f6bc4adacf4b7a8acb3b040eed1172",
       "version_major": 2,
       "version_minor": 0
      },
      "text/plain": [
       "Output()"
      ]
     },
     "metadata": {},
     "output_type": "display_data"
    },
    {
     "data": {
      "text/html": [
       "<pre style=\"white-space:pre;overflow-x:auto;line-height:normal;font-family:Menlo,'DejaVu Sans Mono',consolas,'Courier New',monospace\"><span style=\"color: #7fbfbf; text-decoration-color: #7fbfbf\">[2025-04-10 13:21:51] </span><span style=\"color: #808000; text-decoration-color: #808000\">WARNING </span> You're loading data from a remote location. If the dataset is small     <a href=\"file:///Users/cas.wognum/Documents/repositories/polaris/polaris/dataset/_base.py\" target=\"_blank\"><span style=\"color: #7f7f7f; text-decoration-color: #7f7f7f\">_base.py</span></a><span style=\"color: #7f7f7f; text-decoration-color: #7f7f7f\">:</span><a href=\"file:///Users/cas.wognum/Documents/repositories/polaris/polaris/dataset/_base.py#181\" target=\"_blank\"><span style=\"color: #7f7f7f; text-decoration-color: #7f7f7f\">181</span></a>\n",
       "<span style=\"color: #7fbfbf; text-decoration-color: #7fbfbf\">                      </span>         enough, consider caching the dataset first using <span style=\"color: #800080; text-decoration-color: #800080; font-weight: bold\">DatasetV2.cache</span><span style=\"font-weight: bold\">()</span> for  <span style=\"color: #7f7f7f; text-decoration-color: #7f7f7f\">            </span>\n",
       "<span style=\"color: #7fbfbf; text-decoration-color: #7fbfbf\">                      </span>         more performant data access.                                            <span style=\"color: #7f7f7f; text-decoration-color: #7f7f7f\">            </span>\n",
       "</pre>\n"
      ],
      "text/plain": [
       "\u001b[2;36m[2025-04-10 13:21:51]\u001b[0m\u001b[2;36m \u001b[0m\u001b[33mWARNING \u001b[0m You're loading data from a remote location. If the dataset is small     \u001b]8;id=163904;file:///Users/cas.wognum/Documents/repositories/polaris/polaris/dataset/_base.py\u001b\\\u001b[2m_base.py\u001b[0m\u001b]8;;\u001b\\\u001b[2m:\u001b[0m\u001b]8;id=339491;file:///Users/cas.wognum/Documents/repositories/polaris/polaris/dataset/_base.py#181\u001b\\\u001b[2m181\u001b[0m\u001b]8;;\u001b\\\n",
       "\u001b[2;36m                      \u001b[0m         enough, consider caching the dataset first using \u001b[1;35mDatasetV2.cache\u001b[0m\u001b[1m(\u001b[0m\u001b[1m)\u001b[0m for  \u001b[2m            \u001b[0m\n",
       "\u001b[2;36m                      \u001b[0m         more performant data access.                                            \u001b[2m            \u001b[0m\n"
      ]
     },
     "metadata": {},
     "output_type": "display_data"
    },
    {
     "data": {
      "text/html": [
       "<pre style=\"white-space:pre;overflow-x:auto;line-height:normal;font-family:Menlo,'DejaVu Sans Mono',consolas,'Courier New',monospace\"><span style=\"color: #7fbfbf; text-decoration-color: #7fbfbf\">[13:21:52] </span><span style=\"color: #008000; text-decoration-color: #008000\"> Success: Fetching dataset</span>                                                                 <a href=\"file:///Users/cas.wognum/Documents/repositories/polaris/polaris/utils/context.py\" target=\"_blank\"><span style=\"color: #7f7f7f; text-decoration-color: #7f7f7f\">context.py</span></a><span style=\"color: #7f7f7f; text-decoration-color: #7f7f7f\">:</span><a href=\"file:///Users/cas.wognum/Documents/repositories/polaris/polaris/utils/context.py#53\" target=\"_blank\"><span style=\"color: #7f7f7f; text-decoration-color: #7f7f7f\">53</span></a>\n",
       "</pre>\n"
      ],
      "text/plain": [
       "\u001b[2;36m[13:21:52]\u001b[0m\u001b[2;36m \u001b[0m\u001b[32m Success: Fetching dataset\u001b[0m                                                                 \u001b]8;id=116769;file:///Users/cas.wognum/Documents/repositories/polaris/polaris/utils/context.py\u001b\\\u001b[2mcontext.py\u001b[0m\u001b]8;;\u001b\\\u001b[2m:\u001b[0m\u001b]8;id=342969;file:///Users/cas.wognum/Documents/repositories/polaris/polaris/utils/context.py#53\u001b\\\u001b[2m53\u001b[0m\u001b]8;;\u001b\\\n"
      ]
     },
     "metadata": {},
     "output_type": "display_data"
    },
    {
     "data": {
      "text/html": [
       "<pre style=\"white-space:pre;overflow-x:auto;line-height:normal;font-family:Menlo,'DejaVu Sans Mono',consolas,'Courier New',monospace\"></pre>\n"
      ],
      "text/plain": []
     },
     "metadata": {},
     "output_type": "display_data"
    }
   ],
   "source": [
    "dataset = po.load_dataset(\"asap-discovery/antiviral-potency-2025-unblinded\")"
   ]
  },
  {
   "cell_type": "code",
   "execution_count": 3,
   "id": "84c93548-340a-4902-a992-69dcb74cf347",
   "metadata": {},
   "outputs": [],
   "source": [
    "dataset.load_to_memory()"
   ]
  },
  {
   "cell_type": "code",
   "execution_count": 4,
   "id": "908b4e05-72b1-4291-bf9b-785e1deb816e",
   "metadata": {},
   "outputs": [
    {
     "data": {
      "text/html": [
       "<div>\n",
       "<style scoped>\n",
       "    .dataframe tbody tr th:only-of-type {\n",
       "        vertical-align: middle;\n",
       "    }\n",
       "\n",
       "    .dataframe tbody tr th {\n",
       "        vertical-align: top;\n",
       "    }\n",
       "\n",
       "    .dataframe thead th {\n",
       "        text-align: right;\n",
       "    }\n",
       "</style>\n",
       "<table border=\"1\" class=\"dataframe\">\n",
       "  <thead>\n",
       "    <tr style=\"text-align: right;\">\n",
       "      <th></th>\n",
       "      <th>CXSMILES</th>\n",
       "      <th>Set</th>\n",
       "      <th>pIC50 (MERS-CoV Mpro)</th>\n",
       "      <th>pIC50 (SARS-CoV-2 Mpro)</th>\n",
       "    </tr>\n",
       "  </thead>\n",
       "  <tbody>\n",
       "    <tr>\n",
       "      <th>0</th>\n",
       "      <td>COC[C@]1(C)C(=O)N(C2=CN=CC3=CC=CC=C23)C(=O)N1C...</td>\n",
       "      <td>Train</td>\n",
       "      <td>4.19</td>\n",
       "      <td>NaN</td>\n",
       "    </tr>\n",
       "    <tr>\n",
       "      <th>1</th>\n",
       "      <td>C=C(CN1CCC2=C(C=C(Cl)C=C2)C1C(=O)NC1=CN=CC2=CC...</td>\n",
       "      <td>Train</td>\n",
       "      <td>4.92</td>\n",
       "      <td>5.29</td>\n",
       "    </tr>\n",
       "    <tr>\n",
       "      <th>2</th>\n",
       "      <td>CNC(=O)CN1C[C@]2(C[C@H](C)N(C3=CN=CC=C3C3CC3)C...</td>\n",
       "      <td>Train</td>\n",
       "      <td>4.73</td>\n",
       "      <td>NaN</td>\n",
       "    </tr>\n",
       "    <tr>\n",
       "      <th>3</th>\n",
       "      <td>C=C(CN1CCC2=C(C=C(Cl)C=C2)C1C(=O)NC1=CN=CC2=CC...</td>\n",
       "      <td>Train</td>\n",
       "      <td>4.90</td>\n",
       "      <td>6.11</td>\n",
       "    </tr>\n",
       "    <tr>\n",
       "      <th>4</th>\n",
       "      <td>C=C(CN1CCC2=C(C=C(Cl)C=C2)C1C(=O)NC1=CN=CC2=CC...</td>\n",
       "      <td>Train</td>\n",
       "      <td>4.81</td>\n",
       "      <td>5.62</td>\n",
       "    </tr>\n",
       "  </tbody>\n",
       "</table>\n",
       "</div>"
      ],
      "text/plain": [
       "                                            CXSMILES    Set  \\\n",
       "0  COC[C@]1(C)C(=O)N(C2=CN=CC3=CC=CC=C23)C(=O)N1C...  Train   \n",
       "1  C=C(CN1CCC2=C(C=C(Cl)C=C2)C1C(=O)NC1=CN=CC2=CC...  Train   \n",
       "2  CNC(=O)CN1C[C@]2(C[C@H](C)N(C3=CN=CC=C3C3CC3)C...  Train   \n",
       "3  C=C(CN1CCC2=C(C=C(Cl)C=C2)C1C(=O)NC1=CN=CC2=CC...  Train   \n",
       "4  C=C(CN1CCC2=C(C=C(Cl)C=C2)C1C(=O)NC1=CN=CC2=CC...  Train   \n",
       "\n",
       "   pIC50 (MERS-CoV Mpro)  pIC50 (SARS-CoV-2 Mpro)  \n",
       "0                   4.19                      NaN  \n",
       "1                   4.92                     5.29  \n",
       "2                   4.73                      NaN  \n",
       "3                   4.90                     6.11  \n",
       "4                   4.81                     5.62  "
      ]
     },
     "execution_count": 4,
     "metadata": {},
     "output_type": "execute_result"
    }
   ],
   "source": [
    "from polaris.dataset import Subset\n",
    "\n",
    "df = Subset(\n",
    "    dataset=dataset, \n",
    "    indices=list(range(len(dataset))), \n",
    "    input_cols=[\"CXSMILES\", \"Set\"], \n",
    "    target_cols=[\"pIC50 (MERS-CoV Mpro)\", \"pIC50 (SARS-CoV-2 Mpro)\"]\n",
    ").as_dataframe()\n",
    "\n",
    "df.head()"
   ]
  },
  {
   "cell_type": "code",
   "execution_count": 5,
   "id": "8fc5e734-3ada-46d4-a4dc-1d1d599fd2f1",
   "metadata": {},
   "outputs": [
    {
     "data": {
      "text/plain": [
       "(1031, 297)"
      ]
     },
     "execution_count": 5,
     "metadata": {},
     "output_type": "execute_result"
    }
   ],
   "source": [
    "train = df[df[\"Set\"] == \"Train\"]\n",
    "test = df[df[\"Set\"] == \"Test\"]\n",
    "len(train), len(test)"
   ]
  },
  {
   "cell_type": "code",
   "execution_count": 6,
   "id": "5a00089f-e67c-4ffb-bed3-f8e7d57048ce",
   "metadata": {},
   "outputs": [
    {
     "data": {
      "text/plain": [
       "[5, 8, 188, 194, 275]"
      ]
     },
     "execution_count": 6,
     "metadata": {},
     "output_type": "execute_result"
    }
   ],
   "source": [
    "import json \n",
    "\n",
    "\n",
    "with open(\"../../evaluation/data/exclusions/potency.json\") as fd:\n",
    "    flagged = json.load(fd)\n",
    "\n",
    "flagged = flagged[\"pIC50 (SARS-CoV-2 Mpro)\"]\n",
    "flagged = [int(x[\"idx\"]) for x in flagged]\n",
    "flagged"
   ]
  },
  {
   "cell_type": "code",
   "execution_count": 7,
   "id": "27d903fc-f822-4333-8703-ffc2d1b2c7a3",
   "metadata": {},
   "outputs": [
    {
     "data": {
      "text/plain": [
       "292"
      ]
     },
     "execution_count": 7,
     "metadata": {},
     "output_type": "execute_result"
    }
   ],
   "source": [
    "import numpy as np\n",
    "\n",
    "\n",
    "mask = ~np.isin(np.arange(len(test)), flagged)\n",
    "test = test[mask]\n",
    "len(test)"
   ]
  },
  {
   "cell_type": "code",
   "execution_count": 8,
   "id": "365489cd-71f4-4439-a9dc-faf0299f45e2",
   "metadata": {},
   "outputs": [
    {
     "data": {
      "text/html": [
       "<div>\n",
       "<style scoped>\n",
       "    .dataframe tbody tr th:only-of-type {\n",
       "        vertical-align: middle;\n",
       "    }\n",
       "\n",
       "    .dataframe tbody tr th {\n",
       "        vertical-align: top;\n",
       "    }\n",
       "\n",
       "    .dataframe thead th {\n",
       "        text-align: right;\n",
       "    }\n",
       "</style>\n",
       "<table border=\"1\" class=\"dataframe\">\n",
       "  <thead>\n",
       "    <tr style=\"text-align: right;\">\n",
       "      <th></th>\n",
       "      <th>CXSMILES</th>\n",
       "      <th>Set</th>\n",
       "      <th>pIC50 (MERS-CoV Mpro)</th>\n",
       "      <th>pIC50 (SARS-CoV-2 Mpro)</th>\n",
       "    </tr>\n",
       "  </thead>\n",
       "  <tbody>\n",
       "    <tr>\n",
       "      <th>0</th>\n",
       "      <td>COC[C@]1(C)C(=O)N(C2=CN=CC3=CC=CC=C23)C(=O)N1C...</td>\n",
       "      <td>Train</td>\n",
       "      <td>4.19</td>\n",
       "      <td>NaN</td>\n",
       "    </tr>\n",
       "    <tr>\n",
       "      <th>1</th>\n",
       "      <td>C=C(CN1CCC2=C(C=C(Cl)C=C2)C1C(=O)NC1=CN=CC2=CC...</td>\n",
       "      <td>Train</td>\n",
       "      <td>4.92</td>\n",
       "      <td>5.29</td>\n",
       "    </tr>\n",
       "    <tr>\n",
       "      <th>2</th>\n",
       "      <td>CNC(=O)CN1C[C@]2(C[C@H](C)N(C3=CN=CC=C3C3CC3)C...</td>\n",
       "      <td>Train</td>\n",
       "      <td>4.73</td>\n",
       "      <td>NaN</td>\n",
       "    </tr>\n",
       "    <tr>\n",
       "      <th>3</th>\n",
       "      <td>C=C(CN1CCC2=C(C=C(Cl)C=C2)C1C(=O)NC1=CN=CC2=CC...</td>\n",
       "      <td>Train</td>\n",
       "      <td>4.90</td>\n",
       "      <td>6.11</td>\n",
       "    </tr>\n",
       "    <tr>\n",
       "      <th>4</th>\n",
       "      <td>C=C(CN1CCC2=C(C=C(Cl)C=C2)C1C(=O)NC1=CN=CC2=CC...</td>\n",
       "      <td>Train</td>\n",
       "      <td>4.81</td>\n",
       "      <td>5.62</td>\n",
       "    </tr>\n",
       "  </tbody>\n",
       "</table>\n",
       "</div>"
      ],
      "text/plain": [
       "                                            CXSMILES    Set  \\\n",
       "0  COC[C@]1(C)C(=O)N(C2=CN=CC3=CC=CC=C23)C(=O)N1C...  Train   \n",
       "1  C=C(CN1CCC2=C(C=C(Cl)C=C2)C1C(=O)NC1=CN=CC2=CC...  Train   \n",
       "2  CNC(=O)CN1C[C@]2(C[C@H](C)N(C3=CN=CC=C3C3CC3)C...  Train   \n",
       "3  C=C(CN1CCC2=C(C=C(Cl)C=C2)C1C(=O)NC1=CN=CC2=CC...  Train   \n",
       "4  C=C(CN1CCC2=C(C=C(Cl)C=C2)C1C(=O)NC1=CN=CC2=CC...  Train   \n",
       "\n",
       "   pIC50 (MERS-CoV Mpro)  pIC50 (SARS-CoV-2 Mpro)  \n",
       "0                   4.19                      NaN  \n",
       "1                   4.92                     5.29  \n",
       "2                   4.73                      NaN  \n",
       "3                   4.90                     6.11  \n",
       "4                   4.81                     5.62  "
      ]
     },
     "execution_count": 8,
     "metadata": {},
     "output_type": "execute_result"
    }
   ],
   "source": [
    "import pandas as pd\n",
    "\n",
    "\n",
    "df = pd.concat([train, test]).reset_index(drop=True)\n",
    "df.head()"
   ]
  },
  {
   "cell_type": "code",
   "execution_count": 9,
   "id": "ae889322-a176-4d2f-a5d6-c7a137d2c650",
   "metadata": {},
   "outputs": [],
   "source": [
    "df.to_csv(\"../data/potency.csv\")"
   ]
  },
  {
   "cell_type": "markdown",
   "id": "a9d9f49d-bdcb-4c62-9804-21a8ddd1195f",
   "metadata": {},
   "source": [
    "The End."
   ]
  }
 ],
 "metadata": {
  "kernelspec": {
   "display_name": "Python 3 (ipykernel)",
   "language": "python",
   "name": "python3"
  },
  "language_info": {
   "codemirror_mode": {
    "name": "ipython",
    "version": 3
   },
   "file_extension": ".py",
   "mimetype": "text/x-python",
   "name": "python",
   "nbconvert_exporter": "python",
   "pygments_lexer": "ipython3",
   "version": "3.12.8"
  }
 },
 "nbformat": 4,
 "nbformat_minor": 5
}
